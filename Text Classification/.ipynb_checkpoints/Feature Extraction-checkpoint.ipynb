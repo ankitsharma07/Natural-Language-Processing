{
 "cells": [
  {
   "cell_type": "markdown",
   "metadata": {},
   "source": [
    "# Feature Extraction"
   ]
  },
  {
   "cell_type": "markdown",
   "metadata": {},
   "source": [
    "# Norm\n",
    "\n",
    "**What is a norm in Linear Algebra?**\n",
    "\n",
    "A norm is a function that assigns a strictly positive length or size to each vector in a vector space.\n",
    "\n",
    "​\t\t\t\t\t\t\t\t$||x||_p =  (\\sum_{i=1}^{n}|x_i|^p)^{1/p}$\n",
    "\n",
    "\n",
    "\n",
    "## L1 Norm\n",
    "\n",
    "Sum of Absolute Values\n",
    "\n",
    "$||x||_1 =  (\\sum_{i=1}^{n}|x_i|)$\n",
    "\n",
    "Suppose we have a matrix:\n",
    "\n",
    "mat = \n",
    "\n",
    "|   -2   |   0    |  -2   |\n",
    "| :----: | :----: | :---: |\n",
    "| **1**  | **0**  | **2** |\n",
    "| **-2** | **-3** | **2** |\n",
    "\n",
    "After applying the L1 norm we will get:\n",
    "\n",
    "mat = \n",
    "\n",
    "|  4   |  3   |  7   |\n",
    "| :--: | :--: | :--: |\n",
    "|      |      |      |\n",
    "\n",
    "## L2 Norm\n",
    "\n",
    "It is the square root of the sum of the absolute values squared.\n",
    "\n",
    "$||x||_2 =  (\\sum_{i=1}^{n}|x_i|^2)^{1/2}$\n",
    "\n",
    "\n",
    "\n",
    "mat = \n",
    "\n",
    "|   7   |   7   |\n",
    "| :---: | :---: |\n",
    "| **5** | **3** |\n",
    "| **8** | **1** |\n",
    "\n",
    "\n",
    "\n",
    "After applying L2 Norm:\n",
    "\n",
    "\n",
    "\n",
    "| $7^2 + 7^2 = 98$     | $5^2 + 3^2 = 34$   | $8^2 + 1^2 = 65$   |\n",
    "| :------------------- | ------------------ | ------------------ |\n",
    "| $\\sqrt{98} = 9.8994$ | $\\sqrt{34} = 5.83$ | $\\sqrt{65} = 8.06$ |\n",
    "\n"
   ]
  },
  {
   "cell_type": "code",
   "execution_count": 1,
   "metadata": {},
   "outputs": [
    {
     "name": "stderr",
     "output_type": "stream",
     "text": [
      "/Library/Frameworks/Python.framework/Versions/3.6/lib/python3.6/importlib/_bootstrap.py:219: RuntimeWarning: numpy.dtype size changed, may indicate binary incompatibility. Expected 96, got 88\n",
      "  return f(*args, **kwds)\n",
      "/Library/Frameworks/Python.framework/Versions/3.6/lib/python3.6/importlib/_bootstrap.py:219: RuntimeWarning: numpy.dtype size changed, may indicate binary incompatibility. Expected 96, got 88\n",
      "  return f(*args, **kwds)\n"
     ]
    }
   ],
   "source": [
    "#Import library for term frequency and inverse document frequency\n",
    "from sklearn.feature_extraction.text import TfidfVectorizer\n",
    "import pandas as pd"
   ]
  },
  {
   "cell_type": "code",
   "execution_count": 3,
   "metadata": {},
   "outputs": [],
   "source": [
    "texts = [\"good movie\", \"not a good movie\", \"dis not like\", \"i like it\", \"good one\"]\n",
    "\n",
    "tfidf = TfidfVectorizer(min_df = 2, max_df = 0.5, ngram_range=(1,2)) #minimum document frequency\n",
    "features = tfidf.fit_transform(texts)"
   ]
  },
  {
   "cell_type": "code",
   "execution_count": 4,
   "metadata": {},
   "outputs": [
    {
     "data": {
      "text/html": [
       "<div>\n",
       "<style scoped>\n",
       "    .dataframe tbody tr th:only-of-type {\n",
       "        vertical-align: middle;\n",
       "    }\n",
       "\n",
       "    .dataframe tbody tr th {\n",
       "        vertical-align: top;\n",
       "    }\n",
       "\n",
       "    .dataframe thead th {\n",
       "        text-align: right;\n",
       "    }\n",
       "</style>\n",
       "<table border=\"1\" class=\"dataframe\">\n",
       "  <thead>\n",
       "    <tr style=\"text-align: right;\">\n",
       "      <th></th>\n",
       "      <th>good movie</th>\n",
       "      <th>like</th>\n",
       "      <th>movie</th>\n",
       "      <th>not</th>\n",
       "    </tr>\n",
       "  </thead>\n",
       "  <tbody>\n",
       "    <tr>\n",
       "      <th>0</th>\n",
       "      <td>0.707107</td>\n",
       "      <td>0.000000</td>\n",
       "      <td>0.707107</td>\n",
       "      <td>0.000000</td>\n",
       "    </tr>\n",
       "    <tr>\n",
       "      <th>1</th>\n",
       "      <td>0.577350</td>\n",
       "      <td>0.000000</td>\n",
       "      <td>0.577350</td>\n",
       "      <td>0.577350</td>\n",
       "    </tr>\n",
       "    <tr>\n",
       "      <th>2</th>\n",
       "      <td>0.000000</td>\n",
       "      <td>0.707107</td>\n",
       "      <td>0.000000</td>\n",
       "      <td>0.707107</td>\n",
       "    </tr>\n",
       "    <tr>\n",
       "      <th>3</th>\n",
       "      <td>0.000000</td>\n",
       "      <td>1.000000</td>\n",
       "      <td>0.000000</td>\n",
       "      <td>0.000000</td>\n",
       "    </tr>\n",
       "    <tr>\n",
       "      <th>4</th>\n",
       "      <td>0.000000</td>\n",
       "      <td>0.000000</td>\n",
       "      <td>0.000000</td>\n",
       "      <td>0.000000</td>\n",
       "    </tr>\n",
       "  </tbody>\n",
       "</table>\n",
       "</div>"
      ],
      "text/plain": [
       "   good movie      like     movie       not\n",
       "0    0.707107  0.000000  0.707107  0.000000\n",
       "1    0.577350  0.000000  0.577350  0.577350\n",
       "2    0.000000  0.707107  0.000000  0.707107\n",
       "3    0.000000  1.000000  0.000000  0.000000\n",
       "4    0.000000  0.000000  0.000000  0.000000"
      ]
     },
     "execution_count": 4,
     "metadata": {},
     "output_type": "execute_result"
    }
   ],
   "source": [
    "pd.DataFrame(\n",
    "    features.todense(),\n",
    "    columns=tfidf.get_feature_names()\n",
    ")"
   ]
  },
  {
   "cell_type": "code",
   "execution_count": null,
   "metadata": {},
   "outputs": [],
   "source": []
  }
 ],
 "metadata": {
  "kernelspec": {
   "display_name": "Python 3",
   "language": "python",
   "name": "python3"
  },
  "language_info": {
   "codemirror_mode": {
    "name": "ipython",
    "version": 3
   },
   "file_extension": ".py",
   "mimetype": "text/x-python",
   "name": "python",
   "nbconvert_exporter": "python",
   "pygments_lexer": "ipython3",
   "version": "3.6.6"
  }
 },
 "nbformat": 4,
 "nbformat_minor": 2
}
